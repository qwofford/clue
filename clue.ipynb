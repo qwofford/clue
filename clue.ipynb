{
 "cells": [
  {
   "cell_type": "markdown",
   "metadata": {},
   "source": [
    "# Beat Children at the Board Game Clue\n",
    "\n",
    "It's the holiday season, and as my family comes together to celebrate the season, we all strive for total domination in the board games we play. These scripts provide a tool which may be updated from an interactive terminal after evey player's turn, and a recommendation for your next play is made.\n",
    "\n",
    "<br>\n",
    "<div align='center'><img src='hist.png'></img></div>\n",
    "<br><br>"
   ]
  },
  {
   "cell_type": "markdown",
   "metadata": {},
   "source": [
    "## Key components\n",
    "\n",
    "* Dijkstra's algorithm is used to find efficient paths through the board from any room to any other room.\n",
    "\n",
    "\n",
    "* A heap implementation of a priority queue is used to explore my current strategy for defeating the children in my family. More on the strategy; each time a guess is made and the next player is asked if their hand contains any cards from the guess, and **and that player passes**, the likelihood that that guess is close to the truth improves. For instance, if I make a guess and 4 people pass before the 5th person provide a card that contradicts the guess, my guess is likely *better* than if I make a guess and the next person is able to provide a card that contradicts my claim. The detailed comments and content in the \"adjust_ranking\" method attempts to implement this strategy in a quantifiable way\n",
    "\n",
    "\n",
    "* A simple simulation algorithm compares my method with a simpler, distance based strategy.\n",
    "\n",
    "\n",
    "* After 100 trials, I make the claim that my algorithm is better than the simpler strategy because the number of total turns required to produce a winner is significantly reduced.\n",
    "<br><br>\n",
    "\n",
    "<div align='center'><img src=\"clue_board.jpg\"></img></div>"
   ]
  },
  {
   "cell_type": "code",
   "execution_count": 1,
   "metadata": {},
   "outputs": [],
   "source": [
    "class Graph:\n",
    "    # Modified from https://gist.github.com/econchick/4666413\n",
    "    def __init__(self):\n",
    "        from collections import defaultdict\n",
    "        self.nodes = set()\n",
    "        self.edges = defaultdict(list)\n",
    "        self.distances = {}\n",
    "\n",
    "    def add_node(self, value):\n",
    "        self.nodes.add(value)\n",
    "\n",
    "    def add_edge(self, from_node, to_node, distance):\n",
    "        self.edges[from_node].append(to_node)\n",
    "        self.edges[to_node].append(from_node)\n",
    "        self.distances[(from_node, to_node)] = distance\n",
    "        self.distances[(to_node, from_node)] = distance\n",
    "        \n",
    "clue_board = Graph()\n",
    "for room in ['ballroom','billiard','conservatory','dining','kitchen',\n",
    "             'hall','library','lounge','study']:\n",
    "    clue_board.add_node(room)\n",
    "    \n",
    "# I'm just going to add edges, that given 2 D6 rolls, have\n",
    "# an expected value 12 or less.\n",
    "#\n",
    "# (I wonder if there is more efficient way to add all edges.)\n",
    "clue_board.add_edge('study','study',2)\n",
    "clue_board.add_edge('study','kitchen',1)\n",
    "clue_board.add_edge('study','hall',4)\n",
    "clue_board.add_edge('study','library',7)\n",
    "clue_board.add_edge('library','library',2)\n",
    "clue_board.add_edge('library','billiard',4)\n",
    "clue_board.add_edge('library','hall',4)\n",
    "clue_board.add_edge('billiard','billiard',2)\n",
    "clue_board.add_edge('billiard','conservatory',7)\n",
    "clue_board.add_edge('conservatory','conservatory',2)\n",
    "clue_board.add_edge('conservatory','lounge',1)\n",
    "clue_board.add_edge('conservatory','ballroom',4)\n",
    "clue_board.add_edge('ballroom','ballroom',2)\n",
    "clue_board.add_edge('ballroom','dining',7)\n",
    "clue_board.add_edge('ballroom','kitchen',7)\n",
    "clue_board.add_edge('ballroom','billiard',6)\n",
    "clue_board.add_edge('ballroom','library',12)\n",
    "clue_board.add_edge('kitchen','kitchen',2)\n",
    "clue_board.add_edge('kitchen','dining',11)\n",
    "clue_board.add_edge('dining','dining',2)\n",
    "clue_board.add_edge('dining','lounge',4)\n",
    "clue_board.add_edge('lounge','lounge',2)\n",
    "clue_board.add_edge('lounge','hall',8)\n",
    "\n",
    "def find_path(clue_board, nearest):\n",
    "    # Modified from https://gist.github.com/econchick/4666413\n",
    "    best_choices = {nearest: 0}\n",
    "    paths = {}\n",
    "\n",
    "    nodes = set(clue_board.nodes)\n",
    "\n",
    "    while nodes: \n",
    "        min_node = None\n",
    "        for node in nodes:\n",
    "            if node in best_choices:\n",
    "                if min_node is None:\n",
    "                    min_node = node\n",
    "                elif best_choices[node] < best_choices[min_node]:\n",
    "                    min_node = node\n",
    "\n",
    "        if min_node is None:\n",
    "            break\n",
    "\n",
    "        nodes.remove(min_node)\n",
    "        current_weight = best_choices[min_node]\n",
    "\n",
    "        for edge in clue_board.edges[min_node]:\n",
    "            weight = current_weight + clue_board.distances[(min_node, edge)]\n",
    "            if edge not in best_choices or weight < best_choices[edge]:\n",
    "                best_choices[edge] = weight\n",
    "                paths[edge] = min_node\n",
    "    best_choices = [(key,best_choices[key],[]) for key in best_choices]\n",
    "    best_choices = sorted(best_choices,key=lambda x: x[1])\n",
    "    return_list =[]\n",
    "    for idx,(landing,distance,path) in enumerate(best_choices):\n",
    "        while nearest not in path:\n",
    "            if nearest==landing:\n",
    "                path.append(nearest)\n",
    "            else:\n",
    "                path.append(paths[landing])\n",
    "                landing = paths[landing]\n",
    "        path = path.reverse()\n",
    "    return(best_choices)"
   ]
  },
  {
   "cell_type": "code",
   "execution_count": 2,
   "metadata": {},
   "outputs": [
    {
     "data": {
      "text/plain": [
       "[('kitchen', 0, ['kitchen']),\n",
       " ('study', 1, ['kitchen']),\n",
       " ('hall', 5, ['kitchen', 'study']),\n",
       " ('ballroom', 7, ['kitchen']),\n",
       " ('library', 8, ['kitchen', 'study']),\n",
       " ('dining', 11, ['kitchen']),\n",
       " ('conservatory', 11, ['kitchen', 'ballroom']),\n",
       " ('lounge', 12, ['kitchen', 'ballroom', 'conservatory']),\n",
       " ('billiard', 12, ['kitchen', 'study', 'library'])]"
      ]
     },
     "execution_count": 2,
     "metadata": {},
     "output_type": "execute_result"
    }
   ],
   "source": [
    "find_path(clue_board,'kitchen')"
   ]
  },
  {
   "cell_type": "code",
   "execution_count": 3,
   "metadata": {},
   "outputs": [],
   "source": [
    "class Clue:\n",
    "    def __init__(self,my_cards,token, clue_board,verbose):\n",
    "        self.clue_board = clue_board\n",
    "        import random\n",
    "        self.random = random\n",
    "        from matplotlib import pyplot as plt\n",
    "        self.plt = plt\n",
    "        import matplotlib.gridspec as gridspec\n",
    "        from heapq import heappush, heappop\n",
    "        self.push = heappush\n",
    "        self.pop  = heappop\n",
    "        self.verbose = verbose\n",
    "        self.suspects = ['green','peacock','white','plum','mustard','scarlet']\n",
    "        self.weapons  = ['candlestick','knife','pipe','revolver','rope','wrench']\n",
    "        self.rooms    = ['ballroom','billiard','conservatory','dining','kitchen',\n",
    "                         'hall','library','lounge','study']\n",
    "        possibilities = \\\n",
    "            [(0,'{} in the {} with the {}'.format(i,j,k)) \\\n",
    "             for i in self.suspects for j in self.rooms for k in self.weapons]\n",
    "        self.possibilities = []\n",
    "        for priority,claim in possibilities:\n",
    "            for card in my_cards:\n",
    "                if not card in claim:\n",
    "                    self.possibilities.append((priority,claim))\n",
    "        self.fontsize = 15 \n",
    "        self.my_cards = my_cards\n",
    "        self.token = token\n",
    "        if token == 'green':\n",
    "            self.nearest_room = 'ballroom'\n",
    "        if token == 'peacock':\n",
    "            self.nearest_room = 'conservatory'\n",
    "        if token == 'white':\n",
    "            self.nearest_room = 'ballroom'\n",
    "        if token == 'plum':\n",
    "            self.nearest_room = 'study'\n",
    "        if token == 'mustard':\n",
    "            self.nearest_room = 'dining'\n",
    "        if token == 'scarlet':\n",
    "            self.nearest_room = 'lounge'\n",
    "        \n",
    "    def eliminate_card(self,card):\n",
    "        self.possibilities = [(priority,claim) for priority,claim in self.possibilities if card not in claim]\n",
    "        \n",
    "    def adjust_rank(self,suspect,weapon,room,passes):   \n",
    "        claim_str = '{} in the {} with the {}'.format(suspect,room,weapon)\n",
    "        try:\n",
    "            if claim_str in self.guess_history:\n",
    "                raise Exception('You already guessed {}'.format(claim_str))\n",
    "        except AttributeError:\n",
    "            self.guess_history = []\n",
    "        # Add one to passes, because guessr passes by default.\n",
    "        passes = passes + 1\n",
    "        # Each pass represents 3 cards not in the guilty 3-tuple\n",
    "        # More passes => better guess\n",
    "        # 6 players, 3 cards each and 0 passes gives max penalty\n",
    "        penalty_weight = 6*3-passes*3\n",
    "        self.guess_history.append(claim_str)\n",
    "        self.possibilities = [(priority,claim) for priority,claim in self.possibilities if claim != claim_str]\n",
    "        # Assume Earlier matches with opponent hands are worse guesses\n",
    "        # Hypothesis: The product of penalty weight and number of guess elements\n",
    "        #             contained in a possible 3tuple will penalize unlikely guesses\n",
    "        #             and extracting from minheap will produce winner more quickly\n",
    "        #             random guessing.\n",
    "        adjustments = dict([(claim,penalty_weight*sum(list(map(claim.count,(suspect,room,weapon))))) for priority,claim in self.possibilities])\n",
    "        self.possibilities = [(priority+adjustments[claim],claim) for priority,claim in self.possibilities]\n",
    "        # Note: possibilities is list and adjustments is dict. Optimization takes \n",
    "        #       advantage of dict hash table and index inversion\n",
    "    def best_guess(self,nearest_room):\n",
    "        h = []\n",
    "        for element in self.possibilities:\n",
    "            self.push(h,element)\n",
    "        this_top = self.pop(h)\n",
    "        tmp = list(h)\n",
    "        cnt = 0\n",
    "        try: \n",
    "            while this_top[0] == self.pop(tmp)[0]:\n",
    "                cnt += 1\n",
    "        except IndexError:\n",
    "            # Will get index error if all elements\n",
    "            # have identical priority. Not necessarily\n",
    "            # a problem if IndexError occurs.\n",
    "            pass\n",
    "            \n",
    "        equal_likelihood = [this_top] + [self.pop(h) for _ in range(cnt)]\n",
    "\n",
    "        all_paths = self.find_path(nearest_room)\n",
    "        names = [item[1].split(' ')[3] for item in equal_likelihood]\n",
    "        guess_key = {}\n",
    "        for each in equal_likelihood:\n",
    "            guess_key[each[1].split(' ')[3]] = each[1]\n",
    "        for idx,_ in enumerate(all_paths):\n",
    "            if all_paths[idx][0] in names:\n",
    "                self.nearest_room = all_paths[idx][0]\n",
    "                if self.verbose:\n",
    "                    print('Best path is from '+' to '.join(all_paths[idx][2])+' to {}.'.format(all_paths[idx][0]))\n",
    "                return(guess_key[all_paths[idx][0]])\n",
    "\n",
    "    def bad_guess(self,nearest_room):\n",
    "        all_paths = self.find_path(nearest_room)\n",
    "        some_paths = [i for i in all_paths if i[1] < 6]\n",
    "        next_room = self.random.choice(some_paths)\n",
    "        some_possibilities = [i for i in self.possibilities if next_room[0]==i[1].split(' ')[3]]\n",
    "        if len(some_possibilities)==0:\n",
    "            bad_pick = self.random.choice(self.possibilities)\n",
    "        else:\n",
    "            bad_pick = self.random.choice(some_possibilities)\n",
    "            idx = 0\n",
    "            while len(all_paths[idx][2]) > 1:\n",
    "                bad_pick = self.random.choice(self.possibilities)\n",
    "                idx += 1\n",
    "        self.nearest_room = bad_pick[1].split(' ')[3]\n",
    "        return(bad_pick[1])\n",
    "\n",
    "    def check_guess(self,answer,claim):\n",
    "        return(answer==claim)\n",
    "    \n",
    "    def check_claim(self,cards):\n",
    "        shuffled_cards = self.my_cards\n",
    "        for card in cards:\n",
    "            if card in shuffled_cards:\n",
    "                return(card)\n",
    "        return(None)\n",
    "    \n",
    "    def make_hist(self,ax):\n",
    "        fontsize = self.fontsize\n",
    "        these_data = [float(pri) for pri,_ in self.possibilities]\n",
    "        max_pri = max([pri for pri in these_data])\n",
    "        these_data = [(max_pri-this_pri)/max_pri for this_pri in these_data]\n",
    "        these_data = [i if i != 0 else 0.1 for i in these_data]\n",
    "\n",
    "        ax.hist(these_data,range=(0.1,1))\n",
    "        ax.set_ylabel('Count',fontsize=fontsize)\n",
    "        ax.set_xlabel('Less likely'+' '*70+'More likely',fontsize=fontsize)\n",
    "        ax.xaxis.set_ticklabels([])\n",
    "        ax.set_title('Likelihood Histogram',fontsize=fontsize+5)\n",
    "\n",
    "    def make_top(self,ax):\n",
    "        fontsize = self.fontsize\n",
    "        h = []\n",
    "        for each in self.possibilities:\n",
    "            self.push(h,each)\n",
    "        \n",
    "        this_top = self.pop(h)\n",
    "        tmp = list(h)\n",
    "        cnt = 0\n",
    "        while this_top[0] == self.pop(tmp)[0]:\n",
    "            cnt += 1\n",
    "        top_n = [self.pop(h) for _ in range(cnt+1)]\n",
    "        max_n = max([pri for pri,_ in top_n])\n",
    "        top_n = [((max_n-this_n[0])/max_n,this_n[1]) for this_n in top_n]\n",
    "        top_n = [ (i,j) if i != 0 else (0.1,j) for i,j in top_n]\n",
    "        top_n = sorted(top_n,key=lambda x: x[0])\n",
    "      \n",
    "        if len(top_n) < 13:\n",
    "            ax.barh(range(len(top_n)),\n",
    "                    [float(priority) for priority,claim in top_n],align='center')\n",
    "            ax.yaxis.set_ticklabels([claim for _,claim in top_n],\n",
    "                                    fontsize=fontsize)\n",
    "            ax.set_yticks(range(len(top_n)))\n",
    "            ax.set_xlabel('Less likely'+' '*70+'More likely',\n",
    "                          fontsize=fontsize)\n",
    "            ax.set_xlim(left=0)\n",
    "            ax.set_title('Here are the best picks...',\n",
    "                         fontsize=fontsize+5)\n",
    "            ax.xaxis.set_ticklabels([])\n",
    "        else:\n",
    "            ax.text(0.5,0.5,\n",
    "                    'Keep playing.\\nI\\'ll show you more when \\nyou\\'ve narrowed it down',\n",
    "                    fontsize=fontsize+20,\n",
    "                    ha='center',va='center')\n",
    "            ax.set_xticks([])\n",
    "            ax.set_yticks([])\n",
    "        \n",
    "    def show_panel(self):\n",
    "        fig, (ax1, ax2) = self.plt.subplots(nrows=2, ncols=1,figsize=(10,10))\n",
    "        _ =self.make_hist(ax1)\n",
    "        _ =self.make_top(ax2)\n",
    "        _ =self.plt.show()\n",
    "        \n",
    "    # Find all the shortest paths from the nearest room\n",
    "    # using Dijkstras algorithm\n",
    "    def find_path(self, nearest):\n",
    "        # Modified from https://gist.github.com/econchick/4666413\n",
    "        best_choices = {nearest: 0}\n",
    "        paths = {}\n",
    "\n",
    "        nodes = set(self.clue_board.nodes)\n",
    "\n",
    "        while nodes: \n",
    "            min_node = None\n",
    "            for node in nodes:\n",
    "                if node in best_choices:\n",
    "                    if min_node is None:\n",
    "                        min_node = node\n",
    "                    elif best_choices[node] < best_choices[min_node]:\n",
    "                        min_node = node\n",
    "\n",
    "            if min_node is None:\n",
    "                break\n",
    "\n",
    "            nodes.remove(min_node)\n",
    "            current_weight = best_choices[min_node]\n",
    "\n",
    "            for edge in self.clue_board.edges[min_node]:\n",
    "                weight = current_weight + self.clue_board.distances[(min_node, edge)]\n",
    "                if edge not in best_choices or weight < best_choices[edge]:\n",
    "                    best_choices[edge] = weight\n",
    "                    paths[edge] = min_node\n",
    "                    \n",
    "        best_choices = [(key,best_choices[key],[]) for key in best_choices]\n",
    "        best_choices = sorted(best_choices,key=lambda x: x[1])\n",
    "        \n",
    "        return_list =[]\n",
    "        for idx,(landing,distance,path) in enumerate(best_choices):\n",
    "            while nearest not in path:\n",
    "                if nearest==landing:\n",
    "                    path.append(nearest)\n",
    "                else:\n",
    "                    path.append(paths[landing])\n",
    "                    landing = paths[landing]\n",
    "            path = path.reverse()\n",
    "        return(best_choices)\n",
    "    \n",
    "    def dump(self):\n",
    "        return(self.possibilities)\n"
   ]
  },
  {
   "cell_type": "code",
   "execution_count": 4,
   "metadata": {},
   "outputs": [],
   "source": [
    "def make_answer():\n",
    "    import random\n",
    "    suspects = ['green','peacock','white','plum','mustard','scarlet']\n",
    "    weapons  = ['candlestick','knife','pipe','revolver','rope','wrench']\n",
    "    rooms    = ['ballroom','billiard','conservatory','dining','kitchen',\n",
    "                             'hall','library','lounge','study']\n",
    "    return('{} in the {} with the {}'.format(random.choice(suspects),random.choice(rooms),random.choice(weapons)))"
   ]
  },
  {
   "cell_type": "code",
   "execution_count": 5,
   "metadata": {},
   "outputs": [],
   "source": [
    "def make_hands(players,truth,verbose):\n",
    "    import random\n",
    "    import numpy as np\n",
    "    suspects = ['green','peacock','white','plum','mustard','scarlet']\n",
    "    weapons  = ['candlestick','knife','pipe','revolver','rope','wrench']\n",
    "    rooms    = ['ballroom','billiard','conservatory','dining','kitchen',\n",
    "                             'hall','library','lounge','study']\n",
    "    cards = suspects + weapons + rooms\n",
    "    truth = [truth.split(' ')[i] for i in [0,3,6]]\n",
    "    cards = [card for card in cards if card not in truth]\n",
    "    hands = []\n",
    "    for i in range(len(players)*3):\n",
    "        choice = random.choice(cards)\n",
    "        cards.remove(choice)\n",
    "        hands.append(choice)\n",
    "    hands = [[str(this_str) for this_str in this_list] for this_list in np.reshape(hands,(len(players),3))]\n",
    "    collection = {}\n",
    "    for idx,player in enumerate(players):\n",
    "        collection[player] = Clue(hands[idx],suspects[idx],clue_board,verbose)\n",
    "    return(collection)"
   ]
  },
  {
   "cell_type": "code",
   "execution_count": 6,
   "metadata": {},
   "outputs": [],
   "source": [
    "player1 = Clue(my_cards=['rope','revolver','library'],\n",
    "               token='white',\n",
    "               clue_board=clue_board,\n",
    "               verbose=False)"
   ]
  },
  {
   "cell_type": "code",
   "execution_count": 7,
   "metadata": {},
   "outputs": [
    {
     "data": {
      "text/plain": [
       "'rope'"
      ]
     },
     "execution_count": 7,
     "metadata": {},
     "output_type": "execute_result"
    }
   ],
   "source": [
    "player1.check_claim(['rope','revolver','dallas'])"
   ]
  },
  {
   "cell_type": "code",
   "execution_count": 8,
   "metadata": {},
   "outputs": [],
   "source": [
    "player1.eliminate_card('white')\n",
    "player1.eliminate_card('plum')\n",
    "player1.eliminate_card('green')\n",
    "player1.eliminate_card('mustard')\n",
    "player1.eliminate_card('revolver')\n",
    "player1.eliminate_card('rope')\n",
    "player1.eliminate_card('kitchen')\n",
    "player1.eliminate_card('ballroom')\n",
    "player1.eliminate_card('dining')\n",
    "player1.eliminate_card('hall')\n",
    "player1.eliminate_card('library')\n",
    "player1.eliminate_card('knife')\n",
    "player1.eliminate_card('billiard')\n",
    "player1.eliminate_card('candlestick')"
   ]
  },
  {
   "cell_type": "code",
   "execution_count": 9,
   "metadata": {},
   "outputs": [],
   "source": [
    "player1.adjust_rank(suspect='green',room='conservatory',weapon='pipe',passes=2)"
   ]
  },
  {
   "cell_type": "code",
   "execution_count": 10,
   "metadata": {},
   "outputs": [
    {
     "data": {
      "text/plain": [
       "'scarlet in the study with the wrench'"
      ]
     },
     "execution_count": 10,
     "metadata": {},
     "output_type": "execute_result"
    }
   ],
   "source": [
    "player1.best_guess('kitchen')"
   ]
  },
  {
   "cell_type": "code",
   "execution_count": 11,
   "metadata": {},
   "outputs": [
    {
     "data": {
      "text/plain": [
       "'peacock in the study with the pipe'"
      ]
     },
     "execution_count": 11,
     "metadata": {},
     "output_type": "execute_result"
    }
   ],
   "source": [
    "player1.bad_guess('kitchen')"
   ]
  },
  {
   "cell_type": "code",
   "execution_count": 12,
   "metadata": {},
   "outputs": [
    {
     "data": {
      "image/png": "[encoded data removed]",
      "text/plain": [
       "<Figure size 720x720 with 2 Axes>"
      ]
     },
     "metadata": {
      "needs_background": "light"
     },
     "output_type": "display_data"
    }
   ],
   "source": [
    "player1.show_panel()"
   ]
  },
  {
   "cell_type": "code",
   "execution_count": 13,
   "metadata": {
    "scrolled": true
   },
   "outputs": [],
   "source": [
    "def do_game(game, bad, truth, verbose = False, safety_lim = 100):\n",
    "    this_answer = 'Nobody in the nowhere because I am traveling'\n",
    "    safety = 0\n",
    "    order = list(game.keys())\n",
    "    idx = 0\n",
    "    inner_idx = 0\n",
    "    while this_answer != truth and safety < safety_lim:\n",
    "        safety += 1\n",
    "        if verbose:\n",
    "            print('-'*20+order[idx].upper()+'-'*20)\n",
    "            print(order[idx] + \" is nearest to \" + game[order[idx]].nearest_room + \" and their token is \" +game[order[idx]].token)\n",
    "        if bad:\n",
    "            this_answer = game[order[idx]].bad_guess(game[order[idx]].nearest_room)\n",
    "        else:\n",
    "            this_answer = game[order[idx]].best_guess(game[order[idx]].nearest_room)\n",
    "        if verbose:\n",
    "            print(order[idx]+\" thinks best guess is currently: \"+this_answer)\n",
    "        if this_answer != truth:\n",
    "            if inner_idx == len(order)-1:\n",
    "                inner_idx = 0\n",
    "            else:\n",
    "                inner_idx += 1\n",
    "            pass_cnt = 0\n",
    "            hint = None\n",
    "            while hint == None:\n",
    "                if verbose:\n",
    "                    print(\"outer, inner: {}, {}\".format(idx,inner_idx))\n",
    "                    print(order[idx]+\" asking \"+order[inner_idx]+\" if they have \"+str([this_answer.split(' ')[i] for i in [0,3,6]]))\n",
    "                hint = game[order[inner_idx]].check_claim([this_answer.split(' ')[i] for i in [0,3,6]])\n",
    "                if verbose:\n",
    "                    print(order[inner_idx]+\" has \"+str(game[order[inner_idx]].my_cards))\n",
    "                    print(\"Current hint is \"+str(hint))\n",
    "                if inner_idx == len(order)-1:\n",
    "                    inner_idx = 0\n",
    "                else:\n",
    "                    inner_idx += 1\n",
    "                pass_cnt += 1\n",
    "            game[order[idx]].adjust_rank(*[this_answer.split(' ')[i] for i in [0,6,3]],passes=pass_cnt)\n",
    "            game[order[idx]].eliminate_card(hint)\n",
    "            if verbose:\n",
    "                print(order[idx]+\" guesses \"+this_answer)\n",
    "                #if order[idx] =='mbali':\n",
    "                #    game[order[idx]].show_panel()\n",
    "                print('Visted outer loop {} times'.format(safety))\n",
    "            if safety == safety_lim:\n",
    "                print(\"Relax safety parameter\")\n",
    "        else:\n",
    "            if verbose:\n",
    "                print(\"We have a winner! {} guessed {} in {} turns\".format(order[idx],this_answer,safety))\n",
    "            else:\n",
    "                return(safety)\n",
    "\n",
    "        if idx == len(order)-1:\n",
    "            idx = 0\n",
    "        else:\n",
    "            idx += 1\n"
   ]
  },
  {
   "cell_type": "code",
   "execution_count": 14,
   "metadata": {},
   "outputs": [
    {
     "name": "stdout",
     "output_type": "stream",
     "text": [
      "Populating the interactive namespace from numpy and matplotlib\n"
     ]
    }
   ],
   "source": [
    "%pylab inline"
   ]
  },
  {
   "cell_type": "code",
   "execution_count": 15,
   "metadata": {},
   "outputs": [],
   "source": [
    "bad_guesses    = []\n",
    "better_guesses = []\n",
    "for _ in range(100):\n",
    "    truth = make_answer()\n",
    "    game = make_hands(['cookie','dick','alicia','quincy','mbali','tigger'],truth,verbose=False)\n",
    "    bad_guesses.append(do_game(game,bad=True,verbose=False,truth=truth))\n",
    "    better_guesses.append(do_game(game,bad=False,verbose=False,truth=truth))\n",
    "    #bad_guesses.append(do_game(game,bad=True,verbose=True))\n",
    "    #better_guesses.append(do_game(game,bad=False))\n",
    "    "
   ]
  },
  {
   "cell_type": "code",
   "execution_count": 16,
   "metadata": {},
   "outputs": [
    {
     "data": {
      "image/png": "[encoded data removed]",
      "text/plain": [
       "<Figure size 432x288 with 1 Axes>"
      ]
     },
     "metadata": {
      "needs_background": "light"
     },
     "output_type": "display_data"
    }
   ],
   "source": [
    "_ = plt.hist(bad_guesses,label='Bad Guesses')\n",
    "_ = plt.title('Histogram\\n100 Trials of Basic Strategy Simulation')\n",
    "_ = plt.ylabel('Count')\n",
    "_ = plt.xlabel('Turns until win')\n",
    "_ = plt.hist(better_guesses,label='Improved Guesses')\n",
    "_ = plt.title('Histogram\\n100 Trials of Improved Strategy Simulation')\n",
    "_ = plt.ylabel('Count')\n",
    "_ = plt.legend()\n",
    "_ = plt.xlabel('Turns until win')"
   ]
  }
 ],
 "metadata": {
  "anaconda-cloud": {},
  "kernelspec": {
   "display_name": "Python 3",
   "language": "python",
   "name": "python3"
  },
  "language_info": {
   "codemirror_mode": {
    "name": "ipython",
    "version": 3
   },
   "file_extension": ".py",
   "mimetype": "text/x-python",
   "name": "python",
   "nbconvert_exporter": "python",
   "pygments_lexer": "ipython3",
   "version": "3.7.1"
  }
 },
 "nbformat": 4,
 "nbformat_minor": 1
}
